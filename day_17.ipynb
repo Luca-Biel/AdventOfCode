{
 "cells": [
  {
   "cell_type": "code",
   "execution_count": 1,
   "id": "82ecd3e4-a729-43c1-a398-136155a4f48f",
   "metadata": {},
   "outputs": [],
   "source": [
    "a = 729\n",
    "b=0\n",
    "c=0\n",
    "data = [0,1,5,4,3,0]"
   ]
  },
  {
   "cell_type": "code",
   "execution_count": null,
   "id": "283f701b-d154-419c-a98e-6bb26b087738",
   "metadata": {},
   "outputs": [],
   "source": [
    "def get_solution(opc,ope,combo,a,b,c):\n",
    "    if opc == 1:\n",
    "        return(int(1.0*a/(2**combo)))"
   ]
  },
  {
   "cell_type": "code",
   "execution_count": 8,
   "id": "a446fc6c-18ea-41b4-8d5b-2bd46bb4b53c",
   "metadata": {},
   "outputs": [],
   "source": [
    "def get_combo_operant(ope,a,b,c):\n",
    "    if ope in range(4):\n",
    "        return(ope)\n",
    "    elif ope == 4:\n",
    "        return(a)\n",
    "    elif ope == 5:\n",
    "        return(b)\n",
    "    elif ope == 6:\n",
    "        return(c)\n",
    "    elif ope == 7:\n",
    "        return(-999)\n",
    "        \n",
    "        "
   ]
  },
  {
   "cell_type": "code",
   "execution_count": 7,
   "id": "c61cfb22-21a6-4a6a-86a5-58e2b9c88f7c",
   "metadata": {},
   "outputs": [],
   "source": [
    "get_combo_operant(0,1,1,1)"
   ]
  },
  {
   "cell_type": "code",
   "execution_count": 12,
   "id": "0bf01231-2b38-4d8d-8495-494529cebe8e",
   "metadata": {},
   "outputs": [
    {
     "data": {
      "text/plain": [
       "1"
      ]
     },
     "execution_count": 12,
     "metadata": {},
     "output_type": "execute_result"
    }
   ],
   "source": [
    "int(1.99)"
   ]
  }
 ],
 "metadata": {
  "kernelspec": {
   "display_name": "Python 3 (ipykernel)",
   "language": "python",
   "name": "python3"
  },
  "language_info": {
   "codemirror_mode": {
    "name": "ipython",
    "version": 3
   },
   "file_extension": ".py",
   "mimetype": "text/x-python",
   "name": "python",
   "nbconvert_exporter": "python",
   "pygments_lexer": "ipython3",
   "version": "3.9.7"
  }
 },
 "nbformat": 4,
 "nbformat_minor": 5
}
