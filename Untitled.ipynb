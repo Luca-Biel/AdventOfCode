{
 "cells": [
  {
   "cell_type": "code",
   "execution_count": 37,
   "id": "2865c5fb-cf0c-4010-acdb-2850dcce5a84",
   "metadata": {},
   "outputs": [],
   "source": [
    "import math\n",
    "import numpy as np\n",
    "import pandas as pd\n",
    "import itertools"
   ]
  },
  {
   "cell_type": "code",
   "execution_count": 21,
   "id": "4afea817-2b20-423e-8868-edcc511399f3",
   "metadata": {
    "scrolled": true,
    "tags": []
   },
   "outputs": [],
   "source": [
    "with open('Inputs/day_7.txt','r') as file:\n",
    "    lines = file.readlines()\n",
    "    \n",
    "data = []\n",
    "for line in lines:\n",
    "    row = list(map(int, line.replace(\":\", \"\").split(\" \")))\n",
    "    data.append(row)"
   ]
  },
  {
   "cell_type": "code",
   "execution_count": 21,
   "id": "eb6a95dc-7ee8-4d3a-a51b-4accdd4e8039",
   "metadata": {
    "scrolled": true,
    "tags": []
   },
   "outputs": [],
   "source": [
    "def attempt_solve(l,inp,op):\n",
    "    sol = inp[1]\n",
    "    for i in range(2,l):\n",
    "        if op[i-2] == 0:\n",
    "            sol = sol + inp[i]\n",
    "        else:\n",
    "            sol = sol * inp[i]\n",
    "    return(sol)"
   ]
  },
  {
   "cell_type": "code",
   "execution_count": 72,
   "id": "9914fb13-87c2-49db-90bf-b0cf3e7faab8",
   "metadata": {
    "scrolled": true,
    "tags": []
   },
   "outputs": [],
   "source": [
    "tot_sol = 0\n",
    "for row in data:\n",
    "    l=len(row)\n",
    "    target=row[0]\n",
    "    op_l=list(itertools.product([0, 1], repeat=l-2))\n",
    "    solved = False\n",
    "    j=0\n",
    "    while solved == False and j < 2**(l-2):\n",
    "        att_sol = attempt_solve(l,row,op_l[j])\n",
    "        if row[0] == att_sol:\n",
    "            tot_sol = tot_sol + att_sol\n",
    "            solved = True\n",
    "        else:\n",
    "            j+=1"
   ]
  },
  {
   "cell_type": "code",
   "execution_count": 75,
   "id": "7ea31e90-5639-4b88-beab-45f8978efc5b",
   "metadata": {
    "scrolled": true,
    "tags": []
   },
   "outputs": [
    {
     "name": "stdout",
     "output_type": "stream",
     "text": [
      "303876485655\n"
     ]
    }
   ],
   "source": [
    "print(tot_sol)"
   ]
  },
  {
   "cell_type": "code",
   "execution_count": 59,
   "id": "4faa7916-13b7-4bf2-be32-a2aff5609df4",
   "metadata": {
    "scrolled": true,
    "tags": []
   },
   "outputs": [],
   "source": [
    "def attempt_solve_concat(l,inp,op):\n",
    "    sol = inp[1]\n",
    "    for i in range(2,l):\n",
    "        if op[i-2] == 0:\n",
    "            sol = sol + inp[i]\n",
    "        elif op[i-2] == 1:\n",
    "            sol = sol * inp[i]\n",
    "        else:\n",
    "            sol = int(str(sol)+str(inp[i]))\n",
    "    return(sol)"
   ]
  },
  {
   "cell_type": "code",
   "execution_count": 78,
   "id": "c4e9201b-dce9-468e-836a-8f327ac5e11a",
   "metadata": {
    "scrolled": true,
    "tags": []
   },
   "outputs": [
    {
     "data": {
      "text/plain": [
       "True"
      ]
     },
     "execution_count": 78,
     "metadata": {},
     "output_type": "execute_result"
    }
   ],
   "source": [
    "attempt_solve_concat(4,[123,1,2,3],[2,2])==123"
   ]
  },
  {
   "cell_type": "code",
   "execution_count": null,
   "id": "f7322798-f42a-4435-ad5d-9eb9387c64d4",
   "metadata": {},
   "outputs": [],
   "source": [
    "tot_sol_con = 0\n",
    "for row in data:\n",
    "    l=len(row)\n",
    "    target=row[0]\n",
    "    op_l=list(itertools.product([0, 1], repeat=l-2))\n",
    "    solved = False\n",
    "    j=0\n",
    "    while solved == False and j < 2**(l-2):\n",
    "        att_sol = attempt_solve(l,row,op_l[j])\n",
    "        if row[0] == att_sol:\n",
    "            tot_sol_con = tot_sol_con + att_sol\n",
    "            solved = True\n",
    "        else:\n",
    "            j+=1\n",
    "    if solved == False:\n",
    "        op_l=list(itertools.product([0, 1, 2], repeat=l-2))\n",
    "        j=0\n",
    "        while solved == False and j < 3**(l-2):\n",
    "            att_sol = attempt_solve_concat(l,row,op_l[j])\n",
    "            if row[0] == att_sol:\n",
    "                tot_sol_con = tot_sol_con + att_sol\n",
    "                solved = True\n",
    "            else:\n",
    "                j+=1"
   ]
  },
  {
   "cell_type": "code",
   "execution_count": 82,
   "id": "bccc4abd-c88b-4392-8824-dcbc985acda3",
   "metadata": {},
   "outputs": [
    {
     "data": {
      "text/plain": [
       "146111650210682"
      ]
     },
     "execution_count": 82,
     "metadata": {},
     "output_type": "execute_result"
    }
   ],
   "source": [
    "tot_sol_con"
   ]
  },
  {
   "cell_type": "code",
   "execution_count": 67,
   "id": "ce578e6c-7494-48df-adb6-dc89bd86025e",
   "metadata": {},
   "outputs": [
    {
     "data": {
      "text/plain": [
       "81"
      ]
     },
     "execution_count": 67,
     "metadata": {},
     "output_type": "execute_result"
    }
   ],
   "source": [
    "len(list(itertools.product([0, 1,2], repeat=l-2)))"
   ]
  },
  {
   "cell_type": "code",
   "execution_count": 55,
   "id": "6361cef8-1971-4e28-825d-d9d80995d411",
   "metadata": {},
   "outputs": [
    {
     "data": {
      "text/plain": [
       "True"
      ]
     },
     "execution_count": 55,
     "metadata": {},
     "output_type": "execute_result"
    }
   ],
   "source": [
    "tot_sol = 0\n",
    "row=data[2]\n",
    "l=len(row)\n",
    "target=row[0]\n",
    "op_l=list(itertools.product([0, 1], repeat=l-2))\n",
    "solved = False\n",
    "j=0\n",
    "while solved == False and j < 2**(l-2):\n",
    "    att_sol = attempt_solve(l,row,op_l[j])\n",
    "    if row[0] == att_sol:\n",
    "        tot_sol = tot_sol + att_sol\n",
    "        solved = True\n",
    "    else:\n",
    "        j+=1\n",
    "solved"
   ]
  },
  {
   "cell_type": "code",
   "execution_count": 35,
   "id": "4eb723db-803b-41b0-b523-f9d88d8c4f4b",
   "metadata": {},
   "outputs": [],
   "source": [
    "def attempt_solve(l,inp,op):\n",
    "    sol = inp[1]\n",
    "    for i in range(2,l):\n",
    "        if op[i-2] == 0:\n",
    "            sol = sol + inp[i]\n",
    "        else:\n",
    "            sol = sol * inp[i]\n",
    "    return(sol)"
   ]
  },
  {
   "cell_type": "code",
   "execution_count": 49,
   "id": "44c017d6-9f8d-430c-a9eb-d1ac8c997d7c",
   "metadata": {},
   "outputs": [],
   "source": [
    "def attempt_solve(l,inp,op):\n",
    "    sol = inp[1]\n",
    "    for i in range(2,l):\n",
    "        if op[i-2] == 0:\n",
    "            sol = sol + inp[i]\n",
    "        else:\n",
    "            sol = sol * inp[i]\n",
    "    return(sol)"
   ]
  },
  {
   "cell_type": "code",
   "execution_count": 50,
   "id": "bd293184-02b6-41a2-a818-0941b5f90da6",
   "metadata": {},
   "outputs": [
    {
     "data": {
      "text/plain": [
       "False"
      ]
     },
     "execution_count": 50,
     "metadata": {},
     "output_type": "execute_result"
    }
   ],
   "source": [
    "i=2\n",
    "solved"
   ]
  },
  {
   "cell_type": "code",
   "execution_count": null,
   "id": "d675f271-432d-4442-a7a9-acfe9ef50ef0",
   "metadata": {},
   "outputs": [],
   "source": []
  }
 ],
 "metadata": {
  "kernelspec": {
   "display_name": "Python 3 (ipykernel)",
   "language": "python",
   "name": "python3"
  },
  "language_info": {
   "codemirror_mode": {
    "name": "ipython",
    "version": 3
   },
   "file_extension": ".py",
   "mimetype": "text/x-python",
   "name": "python",
   "nbconvert_exporter": "python",
   "pygments_lexer": "ipython3",
   "version": "3.9.7"
  }
 },
 "nbformat": 4,
 "nbformat_minor": 5
}
