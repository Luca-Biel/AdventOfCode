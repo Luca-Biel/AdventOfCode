{
 "cells": [
  {
   "cell_type": "code",
   "execution_count": 9,
   "id": "4b3b1516-1851-4afe-9148-e3e44eca93f8",
   "metadata": {},
   "outputs": [],
   "source": [
    "with open('Inputs/day_13.txt','r') as file:\n",
    "    lines = file.readlines()\n",
    "    \n",
    "data = []\n",
    "for line in lines:\n",
    "    row = list(line.replace(\":\", \",\").replace('X','').replace('+','').replace('=','').replace('Y','').replace('\\n','').replace(' ','').split(\",\"))\n",
    "    data.append(row)"
   ]
  },
  {
   "cell_type": "code",
   "execution_count": 64,
   "id": "e3d71e15-da73-42cc-99d9-2fef96b0adb1",
   "metadata": {},
   "outputs": [
    {
     "data": {
      "text/plain": [
       "['ButtonA', '55', '15']"
      ]
     },
     "execution_count": 64,
     "metadata": {},
     "output_type": "execute_result"
    }
   ],
   "source": [
    "data[i*4]"
   ]
  },
  {
   "cell_type": "code",
   "execution_count": 65,
   "id": "58f3b1e7-b19b-4513-bee0-67257e894c8c",
   "metadata": {
    "scrolled": true,
    "tags": []
   },
   "outputs": [],
   "source": [
    "work=[]\n",
    "for i in range(0,int(len(data)/4)+1):\n",
    "    ax = int(data[i*4][1])\n",
    "    ay = int(data[i*4][2])\n",
    "    bx = int(data[i*4+1][1])\n",
    "    by = int(data[i*4+1][2])\n",
    "    tx = int(data[i*4+2][1])\n",
    "    ty = int(data[i*4+2][2])\n",
    "    work.append([ax,ay,bx,by,tx,ty])"
   ]
  },
  {
   "cell_type": "code",
   "execution_count": 71,
   "id": "e4e6daea-81a7-4842-a5d9-2413823432e1",
   "metadata": {},
   "outputs": [],
   "source": [
    "def solve_equation(ax,ay,bx,by,tx,ty):\n",
    "    v = 1.0 * ((tx * ay) - (ty * ax))/((ay * bx) - (by * ax))\n",
    "    u1 = (tx - bx * v) / ax\n",
    "    u2 = (ty - by * v) / ay\n",
    "    if u1 == u2 and u1 % 1 == 0 and v % 1 == 0 and u1 >= 0 and v >= 0:\n",
    "        return([u1,v])\n",
    "    else:\n",
    "        return [0,0]"
   ]
  },
  {
   "cell_type": "code",
   "execution_count": 68,
   "id": "cf351938-7e39-4e8f-86e5-5f1c762f1183",
   "metadata": {},
   "outputs": [
    {
     "data": {
      "text/plain": [
       "28887.0"
      ]
     },
     "execution_count": 68,
     "metadata": {},
     "output_type": "execute_result"
    }
   ],
   "source": [
    "tokens=0\n",
    "for row in work:\n",
    "    sol = solve_equation(row[0],row[1],row[2],row[3],row[4],row[5])\n",
    "    tokens = tokens + 3 * sol[0] + sol[1]\n",
    "tokens"
   ]
  },
  {
   "cell_type": "code",
   "execution_count": 73,
   "id": "9e9f4f5c-fb49-4346-8e24-423fb7bb3c1c",
   "metadata": {},
   "outputs": [],
   "source": [
    "work=[]\n",
    "for i in range(0,int(len(data)/4)+1):\n",
    "    ax = int(data[i*4][1])\n",
    "    ay = int(data[i*4][2])\n",
    "    bx = int(data[i*4+1][1])\n",
    "    by = int(data[i*4+1][2])\n",
    "    tx = int(data[i*4+2][1])\n",
    "    ty = int(data[i*4+2][2])\n",
    "    work.append([ax,ay,bx,by,tx+10000000000000,ty+10000000000000])"
   ]
  },
  {
   "cell_type": "code",
   "execution_count": 74,
   "id": "af67ef4c-4a26-4781-9526-1ccd49e89d47",
   "metadata": {},
   "outputs": [
    {
     "data": {
      "text/plain": [
       "96979582619758.0"
      ]
     },
     "execution_count": 74,
     "metadata": {},
     "output_type": "execute_result"
    }
   ],
   "source": [
    "tokens=0\n",
    "for row in work:\n",
    "    sol = solve_equation(row[0],row[1],row[2],row[3],row[4],row[5])\n",
    "    tokens = tokens + 3 * sol[0] + sol[1]\n",
    "tokens"
   ]
  },
  {
   "cell_type": "code",
   "execution_count": 44,
   "id": "9a68cefb-45f3-47d9-8347-336cc3fe4b35",
   "metadata": {},
   "outputs": [
    {
     "ename": "TypeError",
     "evalue": "solve_equation() missing 5 required positional arguments: 'bx', 'ay', 'by', 'tx', and 'ty'",
     "output_type": "error",
     "traceback": [
      "\u001b[1;31m---------------------------------------------------------------------------\u001b[0m",
      "\u001b[1;31mTypeError\u001b[0m                                 Traceback (most recent call last)",
      "\u001b[1;32m~\\AppData\\Local\\Temp/ipykernel_23060/581896486.py\u001b[0m in \u001b[0;36m<module>\u001b[1;34m\u001b[0m\n\u001b[1;32m----> 1\u001b[1;33m \u001b[0msolve_equation\u001b[0m\u001b[1;33m(\u001b[0m\u001b[0mrow\u001b[0m\u001b[1;33m[\u001b[0m\u001b[1;36m0\u001b[0m\u001b[1;33m:\u001b[0m\u001b[1;36m6\u001b[0m\u001b[1;33m]\u001b[0m\u001b[1;33m)\u001b[0m\u001b[1;33m\u001b[0m\u001b[1;33m\u001b[0m\u001b[0m\n\u001b[0m",
      "\u001b[1;31mTypeError\u001b[0m: solve_equation() missing 5 required positional arguments: 'bx', 'ay', 'by', 'tx', and 'ty'"
     ]
    }
   ],
   "source": [
    "solve_equation(row[0:6])"
   ]
  },
  {
   "cell_type": "code",
   "execution_count": 14,
   "id": "446bf2d2-1135-4813-a828-571d0539e147",
   "metadata": {},
   "outputs": [],
   "source": [
    "x*4 + y*10 = 80\n",
    "x*3 + y*8 = 63\n",
    "\n",
    "u * ax + v * bx = tx\n",
    "u * ay + v * by = ty\n",
    "\n",
    "\n",
    "\n",
    "x*12 + y*30 = 240\n",
    "-x*12 - y*32 = -252"
   ]
  },
  {
   "cell_type": "code",
   "execution_count": 27,
   "id": "951da0ae-1739-466f-b40c-908da053f39e",
   "metadata": {},
   "outputs": [
    {
     "data": {
      "text/plain": [
       "1.5"
      ]
     },
     "execution_count": 27,
     "metadata": {},
     "output_type": "execute_result"
    }
   ],
   "source": [
    "5.5%2"
   ]
  }
 ],
 "metadata": {
  "kernelspec": {
   "display_name": "Python 3 (ipykernel)",
   "language": "python",
   "name": "python3"
  },
  "language_info": {
   "codemirror_mode": {
    "name": "ipython",
    "version": 3
   },
   "file_extension": ".py",
   "mimetype": "text/x-python",
   "name": "python",
   "nbconvert_exporter": "python",
   "pygments_lexer": "ipython3",
   "version": "3.9.7"
  }
 },
 "nbformat": 4,
 "nbformat_minor": 5
}
