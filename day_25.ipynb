{
 "cells": [
  {
   "cell_type": "code",
   "execution_count": 12,
   "id": "08bcbea3-c629-410b-908c-5f068d2a971a",
   "metadata": {},
   "outputs": [],
   "source": [
    "with open('Inputs/day_25.txt','r') as file:\n",
    "    lines = file.readlines()\n",
    "\n",
    "data = []\n",
    "keys = []\n",
    "locks = []\n",
    "for line in lines:\n",
    "    row = list(line.replace('\\n',''))\n",
    "    if len(row) > 1:\n",
    "        data.append(row)\n",
    "    "
   ]
  },
  {
   "cell_type": "code",
   "execution_count": 13,
   "id": "dcbe5248-7b01-47d9-895f-e1c9b5a6324c",
   "metadata": {
    "scrolled": true,
    "tags": []
   },
   "outputs": [],
   "source": [
    "def test_col(tr,p):\n",
    "    counter = 0\n",
    "    for j in range(7):\n",
    "        if data[tr+j][p] == '#':\n",
    "            counter = counter+1\n",
    "    return(counter)\n",
    "\n",
    "def test_set(tr):\n",
    "    set_val = []\n",
    "    for c in range(5):\n",
    "        set_val.append(test_col(tr,c))\n",
    "    return(set_val)\n",
    "\n",
    "def test_type(tr):\n",
    "    if data[tr] == ['#','#','#','#','#']:\n",
    "        return('lock')\n",
    "    elif data[tr + 6] == ['#','#','#','#','#']:\n",
    "        return('key')\n",
    "    else:\n",
    "        print('Error')"
   ]
  },
  {
   "cell_type": "code",
   "execution_count": 15,
   "id": "a9deb362-cd36-4e5b-9467-39e971e292bc",
   "metadata": {
    "scrolled": true,
    "tags": []
   },
   "outputs": [],
   "source": [
    "for i in range(0,int(len(data)/7)):\n",
    "    toprow = i * 7\n",
    "    sol = test_set(toprow)\n",
    "    kl_type = test_type(toprow)\n",
    "    if kl_type == 'key':\n",
    "        keys.append(sol)\n",
    "    if kl_type == 'lock':\n",
    "        locks.append(sol)"
   ]
  },
  {
   "cell_type": "code",
   "execution_count": 17,
   "id": "8ff7bd94-cf83-4468-b1be-d31cd25f4354",
   "metadata": {
    "scrolled": true,
    "tags": []
   },
   "outputs": [],
   "source": [
    "counter = 0\n",
    "for key in keys:\n",
    "    for lock in locks:\n",
    "        if key[0] + lock[0] <= 7 and key[1] + lock[1] <= 7 and key[2] + lock[2] <= 7 and key[3] + lock[3] <= 7 and key[4] + lock[4] <= 7:\n",
    "            counter = counter + 1"
   ]
  },
  {
   "cell_type": "code",
   "execution_count": 18,
   "id": "60713204-a3a5-4334-9974-58cc2975a4d9",
   "metadata": {
    "scrolled": true,
    "tags": []
   },
   "outputs": [
    {
     "data": {
      "text/plain": [
       "3397"
      ]
     },
     "execution_count": 18,
     "metadata": {},
     "output_type": "execute_result"
    }
   ],
   "source": [
    "counter"
   ]
  },
  {
   "cell_type": "code",
   "execution_count": null,
   "id": "4cafdc6b-f864-4c59-9215-95fe51d22099",
   "metadata": {
    "scrolled": true,
    "tags": []
   },
   "outputs": [],
   "source": [
    "killer = 1\n",
    "\n",
    "while killer > 0:\n",
    "    killer = 0\n",
    "    prep_wires = wires.keys()\n",
    "    for row in gates:\n",
    "        a = row[0]\n",
    "        b = row[2]\n",
    "        r = row[1]\n",
    "        t = row[3]\n",
    "        if a in prep_wires and b in prep_wires and t not in prep_wires:\n",
    "            if r == \"AND\":\n",
    "                if wires[a] == 1 and wires[b] == 1:\n",
    "                    wires.update({t:1})\n",
    "                else:\n",
    "                    wires.update({t:0})\n",
    "            elif r == \"OR\":\n",
    "                if wires[a] == 1 or wires[b] == 1:\n",
    "                    wires.update({t:1})\n",
    "                else:\n",
    "                    wires.update({t:0})\n",
    "            elif r == \"XOR\":\n",
    "                if wires[a] + wires[b] == 1:\n",
    "                    wires.update({t:1})\n",
    "                else:\n",
    "                    wires.update({t:0})\n",
    "        elif a not in prep_wires or b not in prep_wires:\n",
    "            killer = killer + 1\n",
    "    print(killer)"
   ]
  },
  {
   "cell_type": "code",
   "execution_count": null,
   "id": "f8b15b36-8955-4e8a-af44-5a85768c0bb5",
   "metadata": {},
   "outputs": [],
   "source": [
    "zs = []\n",
    "for key, value in wires.items():\n",
    "    temp = [key,value]\n",
    "    if temp[0][0] == 'z':\n",
    "        zs.append(temp)\n",
    "zs.sort()"
   ]
  },
  {
   "cell_type": "code",
   "execution_count": null,
   "id": "bb1e72bc-4875-4998-ab27-0b88fdecb8b6",
   "metadata": {},
   "outputs": [],
   "source": [
    "total = 0\n",
    "i = 0\n",
    "for row in zs:\n",
    "    total = total + row[1] * 2 ** i\n",
    "    i = i + 1"
   ]
  },
  {
   "cell_type": "code",
   "execution_count": null,
   "id": "7ee400f3-f297-4929-9dea-bd6ed42b541c",
   "metadata": {},
   "outputs": [],
   "source": [
    "total"
   ]
  },
  {
   "cell_type": "code",
   "execution_count": null,
   "id": "db32eb18-f9ea-4d4f-99a6-13758b781142",
   "metadata": {},
   "outputs": [],
   "source": []
  },
  {
   "cell_type": "code",
   "execution_count": null,
   "id": "c921cdac-f1cc-42ca-9165-0b696401ff40",
   "metadata": {
    "scrolled": true,
    "tags": []
   },
   "outputs": [],
   "source": [
    "gates_2 = []\n",
    "for line in lines:\n",
    "    if '->' in line:\n",
    "        row = list(line.replace('\\n','').replace('-> ','').split(' '))\n",
    "        if len(row) > 1:\n",
    "            gates_2.append([row[3],row[0],row[1],row[2]])"
   ]
  },
  {
   "cell_type": "code",
   "execution_count": null,
   "id": "a5c033bc-7fe7-40d5-b17f-ec0ef83bdfdd",
   "metadata": {
    "scrolled": true,
    "tags": []
   },
   "outputs": [],
   "source": [
    "gates_2.sort()"
   ]
  },
  {
   "cell_type": "code",
   "execution_count": null,
   "id": "550efae7-4b92-439a-98c1-56cfca3ed178",
   "metadata": {},
   "outputs": [],
   "source": [
    "gates_2"
   ]
  },
  {
   "cell_type": "code",
   "execution_count": null,
   "id": "7824b0d0-034d-4a50-ab4c-b7a7c321ddd5",
   "metadata": {
    "scrolled": true,
    "tags": []
   },
   "outputs": [],
   "source": [
    "wires = {}\n",
    "gates = []\n",
    "for line in lines:\n",
    "    if '->' in line:\n",
    "        row = list(line.replace('\\n','').replace('-> ','').split(' '))\n",
    "        if len(row) > 1:\n",
    "            gates.append(row)\n",
    "    else:\n",
    "        row = list(line.replace('\\n','').replace(':','').split(' '))\n",
    "        if len(row) > 1:\n",
    "            wires.update({row[0]:int(row[1])})\n",
    "wires_2 = {}\n",
    "for line in lines:\n",
    "    if '->' not in line:\n",
    "        row = list(line.replace('\\n','').replace(':','').split(' '))\n",
    "        if len(row) > 1:\n",
    "            wires_2.update({row[0]:[row[0]]})"
   ]
  },
  {
   "cell_type": "code",
   "execution_count": null,
   "id": "f7ece02f-6407-4c80-bbd7-cf8f7949d942",
   "metadata": {
    "scrolled": true,
    "tags": []
   },
   "outputs": [],
   "source": [
    "killer = 1\n",
    "\n",
    "while killer > 0:\n",
    "    killer = 0\n",
    "    prep_wires = wires.keys()\n",
    "    for row in gates:\n",
    "        a = row[0]\n",
    "        b = row[2]\n",
    "        r = row[1]\n",
    "        t = row[3]\n",
    "        if a in prep_wires and b in prep_wires and t not in prep_wires:\n",
    "            wa = wires_2[a][:]\n",
    "            wb = wires_2[b][:]\n",
    "            for item in wb:\n",
    "                wa.append(item)\n",
    "            if r == \"AND\":\n",
    "                if wires[a] == 1 and wires[b] == 1:\n",
    "                    wires.update({t:1})\n",
    "                    wires_2.update({t:wa})\n",
    "                else:\n",
    "                    wires.update({t:0})\n",
    "                    wires_2.update({t:wa})\n",
    "            elif r == \"OR\":\n",
    "                if wires[a] == 1 or wires[b] == 1:\n",
    "                    wires.update({t:1})\n",
    "                    wires_2.update({t:wa})\n",
    "                else:\n",
    "                    wires.update({t:0})\n",
    "                    wires_2.update({t:wa})\n",
    "            elif r == \"XOR\":\n",
    "                if wires[a] + wires[b] == 1:\n",
    "                    wires.update({t:1})\n",
    "                    wires_2.update({t:wa})\n",
    "                else:\n",
    "                    wires.update({t:0})\n",
    "                    wires_2.update({t:wa})\n",
    "        elif a not in prep_wires or b not in prep_wires:\n",
    "            killer = killer + 1\n",
    "    print(killer)"
   ]
  },
  {
   "cell_type": "code",
   "execution_count": null,
   "id": "8b9d9835-fd81-4ac6-9125-d6e576ab6215",
   "metadata": {
    "scrolled": true,
    "tags": []
   },
   "outputs": [],
   "source": [
    "gates.sort()\n",
    "for row in gates:\n",
    "    item_a = row[0]\n",
    "    emptylist = []\n",
    "    for item in wires_2[item_a]:\n",
    "        if item not in emptylist:\n",
    "            emptylist.append(item)\n",
    "    emptylist.sort()\n",
    "    print(item_a)\n",
    "    print(len(emptylist))"
   ]
  },
  {
   "cell_type": "code",
   "execution_count": null,
   "id": "521ab187-6df5-41a5-849c-31503cabfebc",
   "metadata": {
    "scrolled": true,
    "tags": []
   },
   "outputs": [],
   "source": [
    "for item_a in ['vcv']:\n",
    "    emptylist = []\n",
    "    for item in wires_2[item_a]:\n",
    "        if item not in emptylist:\n",
    "            emptylist.append(item)\n",
    "    emptylist.sort()\n",
    "    print(item_a)\n",
    "    print(len(emptylist))"
   ]
  },
  {
   "cell_type": "code",
   "execution_count": null,
   "id": "459226a1-a59f-4a76-886a-41af0e018e09",
   "metadata": {
    "scrolled": true,
    "tags": []
   },
   "outputs": [],
   "source": [
    "gates_2 = []\n",
    "for row in gates:\n",
    "    gates_2.append([row[3],row[0],row[1],row[2]])\n",
    "gates_2.sort()\n",
    "gates_2"
   ]
  },
  {
   "cell_type": "code",
   "execution_count": null,
   "id": "a49bbf5e-4f84-4c1b-bed8-c4a3d6e51eae",
   "metadata": {},
   "outputs": [],
   "source": [
    "i = 1\n",
    "new_base = []\n",
    "for row in gates_2:\n",
    "    if row[0] == 'vcv' and row[2] == 'XOR':\n",
    "        appender = [row[0],'x13','AND','y13']\n",
    "        exchanger = ['z13',row[1],'XOR',row[3]]\n",
    "    elif row[0] == 'z13':\n",
    "        appender = exchanger\n",
    "    else:\n",
    "        appender = row\n",
    "    new_base.append(appender)\n",
    "        "
   ]
  },
  {
   "cell_type": "code",
   "execution_count": null,
   "id": "1f7f347b-719f-4968-a533-87f03dc5fc61",
   "metadata": {},
   "outputs": [],
   "source": []
  },
  {
   "cell_type": "code",
   "execution_count": null,
   "id": "4d41de2b-2251-4865-ad7c-ea8c2f0825d9",
   "metadata": {},
   "outputs": [],
   "source": [
    "wires = {}\n",
    "gates = []\n",
    "for line in lines:\n",
    "    if '->' in line:\n",
    "        row = list(line.replace('\\n','').replace('-> ','').split(' '))\n",
    "        if len(row) > 1:\n",
    "            gates.append(row)\n",
    "    else:\n",
    "        row = list(line.replace('\\n','').replace(':','').split(' '))\n",
    "        if len(row) > 1:\n",
    "            wires.update({row[0]:int(row[1])})\n",
    "wires_2 = {}\n",
    "for line in lines:\n",
    "    if '->' not in line:\n",
    "        row = list(line.replace('\\n','').replace(':','').split(' '))\n",
    "        if len(row) > 1:\n",
    "            wires_2.update({row[0]:[row[0]]})\n",
    "killer = 1\n",
    "\n",
    "while killer > 0:\n",
    "    killer = 0\n",
    "    prep_wires = wires.keys()\n",
    "    for row in new_base:\n",
    "        a = row[1]\n",
    "        b = row[3]\n",
    "        r = row[2]\n",
    "        t = row[0]\n",
    "        if a in prep_wires and b in prep_wires and t not in prep_wires:\n",
    "            wa = wires_2[a][:]\n",
    "            wb = wires_2[b][:]\n",
    "            for item in wb:\n",
    "                wa.append(item)\n",
    "            if r == \"AND\":\n",
    "                if wires[a] == 1 and wires[b] == 1:\n",
    "                    wires.update({t:1})\n",
    "                    wires_2.update({t:wa})\n",
    "                else:\n",
    "                    wires.update({t:0})\n",
    "                    wires_2.update({t:wa})\n",
    "            elif r == \"OR\":\n",
    "                if wires[a] == 1 or wires[b] == 1:\n",
    "                    wires.update({t:1})\n",
    "                    wires_2.update({t:wa})\n",
    "                else:\n",
    "                    wires.update({t:0})\n",
    "                    wires_2.update({t:wa})\n",
    "            elif r == \"XOR\":\n",
    "                if wires[a] + wires[b] == 1:\n",
    "                    wires.update({t:1})\n",
    "                    wires_2.update({t:wa})\n",
    "                else:\n",
    "                    wires.update({t:0})\n",
    "                    wires_2.update({t:wa})\n",
    "        elif a not in prep_wires or b not in prep_wires:\n",
    "            killer = killer + 1\n",
    "    print(killer)"
   ]
  },
  {
   "cell_type": "code",
   "execution_count": null,
   "id": "81a018f1-63e5-4b88-a905-b82bf330830c",
   "metadata": {},
   "outputs": [],
   "source": [
    "for row in new_base:\n",
    "    item_a = row[0]\n",
    "    emptylist = []\n",
    "    for item in wires_2[item_a]:\n",
    "        if item not in emptylist:\n",
    "            emptylist.append(item)\n",
    "    emptylist.sort()\n",
    "    print(item_a)\n",
    "    print(len(emptylist))"
   ]
  },
  {
   "cell_type": "code",
   "execution_count": null,
   "id": "414bf24a-c2a9-4cfb-b98f-57f066f6f7f6",
   "metadata": {},
   "outputs": [],
   "source": [
    "new_base"
   ]
  },
  {
   "cell_type": "code",
   "execution_count": null,
   "id": "1bd0aec4-7dc9-41db-9ea3-bd759ce387aa",
   "metadata": {},
   "outputs": [],
   "source": [
    "wires['nmn']"
   ]
  },
  {
   "cell_type": "code",
   "execution_count": null,
   "id": "3541c759-9f9b-45a6-8d5d-740ff6abe54b",
   "metadata": {},
   "outputs": [],
   "source": [
    "i = 1\n",
    "new_base_2 = []\n",
    "for row in new_base:\n",
    "    if row[0] == 'vwp' and row[2] == 'XOR':\n",
    "        appender = [row[0],'csn','AND','nmn']\n",
    "        exchanger = ['z19',row[1],'XOR',row[3]]\n",
    "    elif row[0] == 'z19':\n",
    "        appender = exchanger\n",
    "    else:\n",
    "        appender = row\n",
    "    new_base_2.append(appender)\n",
    "        "
   ]
  },
  {
   "cell_type": "code",
   "execution_count": null,
   "id": "b3e7acdc-8c36-48a9-9d3d-47428d91edcf",
   "metadata": {},
   "outputs": [],
   "source": [
    "new_base_2"
   ]
  },
  {
   "cell_type": "code",
   "execution_count": null,
   "id": "d2c91749-4b03-4025-8e74-adbdaedf5734",
   "metadata": {},
   "outputs": [],
   "source": [
    "wires = {}\n",
    "gates = []\n",
    "for line in lines:\n",
    "    if '->' in line:\n",
    "        row = list(line.replace('\\n','').replace('-> ','').split(' '))\n",
    "        if len(row) > 1:\n",
    "            gates.append(row)\n",
    "    else:\n",
    "        row = list(line.replace('\\n','').replace(':','').split(' '))\n",
    "        if len(row) > 1:\n",
    "            wires.update({row[0]:int(row[1])})\n",
    "wires_2 = {}\n",
    "for line in lines:\n",
    "    if '->' not in line:\n",
    "        row = list(line.replace('\\n','').replace(':','').split(' '))\n",
    "        if len(row) > 1:\n",
    "            wires_2.update({row[0]:[row[0]]})\n",
    "killer = 1\n",
    "\n",
    "while killer > 0:\n",
    "    killer = 0\n",
    "    prep_wires = wires.keys()\n",
    "    for row in new_base_2:\n",
    "        a = row[1]\n",
    "        b = row[3]\n",
    "        r = row[2]\n",
    "        t = row[0]\n",
    "        if a in prep_wires and b in prep_wires and t not in prep_wires:\n",
    "            wa = wires_2[a][:]\n",
    "            wb = wires_2[b][:]\n",
    "            for item in wb:\n",
    "                wa.append(item)\n",
    "            if r == \"AND\":\n",
    "                if wires[a] == 1 and wires[b] == 1:\n",
    "                    wires.update({t:1})\n",
    "                    wires_2.update({t:wa})\n",
    "                else:\n",
    "                    wires.update({t:0})\n",
    "                    wires_2.update({t:wa})\n",
    "            elif r == \"OR\":\n",
    "                if wires[a] == 1 or wires[b] == 1:\n",
    "                    wires.update({t:1})\n",
    "                    wires_2.update({t:wa})\n",
    "                else:\n",
    "                    wires.update({t:0})\n",
    "                    wires_2.update({t:wa})\n",
    "            elif r == \"XOR\":\n",
    "                if wires[a] + wires[b] == 1:\n",
    "                    wires.update({t:1})\n",
    "                    wires_2.update({t:wa})\n",
    "                else:\n",
    "                    wires.update({t:0})\n",
    "                    wires_2.update({t:wa})\n",
    "        elif a not in prep_wires or b not in prep_wires:\n",
    "            killer = killer + 1\n",
    "    print(killer)"
   ]
  },
  {
   "cell_type": "code",
   "execution_count": null,
   "id": "9d1b72e1-c3ff-4d7f-98e2-dde6d395bfdc",
   "metadata": {},
   "outputs": [],
   "source": [
    "for row in new_base_2:\n",
    "    item_a = row[0]\n",
    "    emptylist = []\n",
    "    for item in wires_2[item_a]:\n",
    "        if item not in emptylist:\n",
    "            emptylist.append(item)\n",
    "    emptylist.sort()\n",
    "    print(item_a)\n",
    "    print(len(emptylist))"
   ]
  },
  {
   "cell_type": "code",
   "execution_count": null,
   "id": "aae42b80-a172-41e6-a1fd-0678eff3cbfe",
   "metadata": {},
   "outputs": [],
   "source": [
    "i = 1\n",
    "new_base_3 = []\n",
    "for row in new_base_2:\n",
    "    if row[0] == 'mps' and row[2] == 'XOR':\n",
    "        appender = [row[0],'vbw','OR','qkk']\n",
    "        exchanger = ['z25',row[1],'XOR',row[3]]\n",
    "    elif row[0] == 'z25':\n",
    "        appender = exchanger\n",
    "    else:\n",
    "        appender = row\n",
    "    new_base_3.append(appender)\n",
    "        "
   ]
  },
  {
   "cell_type": "code",
   "execution_count": null,
   "id": "0a581166-857b-4e0a-8c0c-b078d902b30a",
   "metadata": {},
   "outputs": [],
   "source": [
    "wires = {}\n",
    "gates = []\n",
    "for line in lines:\n",
    "    if '->' in line:\n",
    "        row = list(line.replace('\\n','').replace('-> ','').split(' '))\n",
    "        if len(row) > 1:\n",
    "            gates.append(row)\n",
    "    else:\n",
    "        row = list(line.replace('\\n','').replace(':','').split(' '))\n",
    "        if len(row) > 1:\n",
    "            wires.update({row[0]:int(row[1])})\n",
    "wires_2 = {}\n",
    "for line in lines:\n",
    "    if '->' not in line:\n",
    "        row = list(line.replace('\\n','').replace(':','').split(' '))\n",
    "        if len(row) > 1:\n",
    "            wires_2.update({row[0]:[row[0]]})\n",
    "killer = 1\n",
    "\n",
    "while killer > 0:\n",
    "    killer = 0\n",
    "    prep_wires = wires.keys()\n",
    "    for row in new_base_3:\n",
    "        a = row[1]\n",
    "        b = row[3]\n",
    "        r = row[2]\n",
    "        t = row[0]\n",
    "        if a in prep_wires and b in prep_wires and t not in prep_wires:\n",
    "            wa = wires_2[a][:]\n",
    "            wb = wires_2[b][:]\n",
    "            for item in wb:\n",
    "                wa.append(item)\n",
    "            if r == \"AND\":\n",
    "                if wires[a] == 1 and wires[b] == 1:\n",
    "                    wires.update({t:1})\n",
    "                    wires_2.update({t:wa})\n",
    "                else:\n",
    "                    wires.update({t:0})\n",
    "                    wires_2.update({t:wa})\n",
    "            elif r == \"OR\":\n",
    "                if wires[a] == 1 or wires[b] == 1:\n",
    "                    wires.update({t:1})\n",
    "                    wires_2.update({t:wa})\n",
    "                else:\n",
    "                    wires.update({t:0})\n",
    "                    wires_2.update({t:wa})\n",
    "            elif r == \"XOR\":\n",
    "                if wires[a] + wires[b] == 1:\n",
    "                    wires.update({t:1})\n",
    "                    wires_2.update({t:wa})\n",
    "                else:\n",
    "                    wires.update({t:0})\n",
    "                    wires_2.update({t:wa})\n",
    "        elif a not in prep_wires or b not in prep_wires:\n",
    "            killer = killer + 1\n",
    "    print(killer)"
   ]
  },
  {
   "cell_type": "code",
   "execution_count": null,
   "id": "e4ed9909-efe7-41fa-9832-c7877b892184",
   "metadata": {},
   "outputs": [],
   "source": [
    "for row in new_base_3:\n",
    "    item_a = row[0]\n",
    "    emptylist = []\n",
    "    for item in wires_2[item_a]:\n",
    "        if item not in emptylist:\n",
    "            emptylist.append(item)\n",
    "    emptylist.sort()\n",
    "    if len(emptylist) >= 90:\n",
    "        print(item_a)\n",
    "        print(len(emptylist))"
   ]
  },
  {
   "cell_type": "code",
   "execution_count": null,
   "id": "588ec55d-0fea-4bdf-a6dd-e66622d964a5",
   "metadata": {},
   "outputs": [],
   "source": [
    "new_base_3"
   ]
  },
  {
   "cell_type": "code",
   "execution_count": null,
   "id": "efd4a68e-03e0-4739-b071-ad7645773b9b",
   "metadata": {},
   "outputs": [],
   "source": [
    "i = 1\n",
    "new_base_4 = []\n",
    "for row in new_base_3:\n",
    "    if row[0] == 'cqm':\n",
    "        appender = [row[0],'x33', 'XOR', 'y33']\n",
    "        exchanger = ['vjv',row[1],'AND',row[3]]\n",
    "    elif row[0] == 'vjv':\n",
    "        appender = exchanger\n",
    "    else:\n",
    "        appender = row\n",
    "    new_base_4.append(appender)"
   ]
  },
  {
   "cell_type": "code",
   "execution_count": null,
   "id": "45e3a235-a373-4dd3-89db-fd1daa8c95ba",
   "metadata": {},
   "outputs": [],
   "source": [
    "wires = {}\n",
    "gates = []\n",
    "for line in lines:\n",
    "    if '->' in line:\n",
    "        row = list(line.replace('\\n','').replace('-> ','').split(' '))\n",
    "        if len(row) > 1:\n",
    "            gates.append(row)\n",
    "    else:\n",
    "        row = list(line.replace('\\n','').replace(':','').split(' '))\n",
    "        if len(row) > 1:\n",
    "            wires.update({row[0]:int(row[1])})\n",
    "wires_2 = {}\n",
    "for line in lines:\n",
    "    if '->' not in line:\n",
    "        row = list(line.replace('\\n','').replace(':','').split(' '))\n",
    "        if len(row) > 1:\n",
    "            wires_2.update({row[0]:[row[0]]})\n",
    "killer = 1\n",
    "\n",
    "while killer > 0:\n",
    "    killer = 0\n",
    "    prep_wires = wires.keys()\n",
    "    for row in new_base_4:\n",
    "        a = row[1]\n",
    "        b = row[3]\n",
    "        r = row[2]\n",
    "        t = row[0]\n",
    "        if a in prep_wires and b in prep_wires and t not in prep_wires:\n",
    "            wa = wires_2[a][:]\n",
    "            wb = wires_2[b][:]\n",
    "            for item in wb:\n",
    "                wa.append(item)\n",
    "            if r == \"AND\":\n",
    "                if wires[a] == 1 and wires[b] == 1:\n",
    "                    wires.update({t:1})\n",
    "                    wires_2.update({t:wa})\n",
    "                else:\n",
    "                    wires.update({t:0})\n",
    "                    wires_2.update({t:wa})\n",
    "            elif r == \"OR\":\n",
    "                if wires[a] == 1 or wires[b] == 1:\n",
    "                    wires.update({t:1})\n",
    "                    wires_2.update({t:wa})\n",
    "                else:\n",
    "                    wires.update({t:0})\n",
    "                    wires_2.update({t:wa})\n",
    "            elif r == \"XOR\":\n",
    "                if wires[a] + wires[b] == 1:\n",
    "                    wires.update({t:1})\n",
    "                    wires_2.update({t:wa})\n",
    "                else:\n",
    "                    wires.update({t:0})\n",
    "                    wires_2.update({t:wa})\n",
    "        elif a not in prep_wires or b not in prep_wires:\n",
    "            killer = killer + 1\n",
    "    print(killer)        "
   ]
  },
  {
   "cell_type": "code",
   "execution_count": null,
   "id": "ccf35792-3e96-4a15-8f19-6765ea68c96e",
   "metadata": {},
   "outputs": [],
   "source": [
    "for row in new_base_4:\n",
    "    item_a = row[0]\n",
    "    emptylist = []\n",
    "    for item in wires_2[item_a]:\n",
    "        if item not in emptylist:\n",
    "            emptylist.append(item)\n",
    "    emptylist.sort()\n",
    "    if len(emptylist) >= 90:\n",
    "        print(item_a)\n",
    "        print(len(emptylist))"
   ]
  },
  {
   "cell_type": "code",
   "execution_count": null,
   "id": "5bc42139-d0f3-4729-892a-32dab662c29f",
   "metadata": {},
   "outputs": [],
   "source": [
    "total = 0\n",
    "for item in wires.keys():\n",
    "    if item[0] in ['x','y']:\n",
    "        total = total + wires[item] * 2 ** int(item[1:3])\n",
    "total"
   ]
  },
  {
   "cell_type": "code",
   "execution_count": null,
   "id": "3096fa90-40d2-497a-9e4e-c590eee9b3cd",
   "metadata": {},
   "outputs": [],
   "source": [
    "total = 0\n",
    "for item in wires.keys():\n",
    "    if item[0] in ['z']:\n",
    "        total = total + wires[item] * 2 ** int(item[1:3])\n",
    "total"
   ]
  },
  {
   "cell_type": "code",
   "execution_count": null,
   "id": "8601f7c4-0b64-462c-95e9-a44f19304b70",
   "metadata": {},
   "outputs": [],
   "source": [
    "targets = []\n",
    "for i in range(0,46):\n",
    "    remainder = total%(2**(i+1))\n",
    "    total = total - remainder\n",
    "    targets.append([i,remainder/(2**(i))])"
   ]
  },
  {
   "cell_type": "code",
   "execution_count": null,
   "id": "395ca443-f4f4-4631-9904-798b2a6a206d",
   "metadata": {},
   "outputs": [],
   "source": [
    "42410633905894\n",
    "42402077001446"
   ]
  },
  {
   "cell_type": "code",
   "execution_count": null,
   "id": "86b8c052-ff7a-40c0-9d9d-bdf2c9452a2e",
   "metadata": {},
   "outputs": [],
   "source": [
    "zs = []\n",
    "for key, value in wires.items():\n",
    "    temp = [key,value]\n",
    "    if temp[0][0] == 'z':\n",
    "        zs.append(temp)\n",
    "zs.sort()"
   ]
  },
  {
   "cell_type": "code",
   "execution_count": null,
   "id": "4e31fbac-1526-4398-8a1b-bb48e60ada70",
   "metadata": {},
   "outputs": [],
   "source": [
    "checker = []\n",
    "for i in range(0,46):\n",
    "    checker.append([targets[i][1],zs[i]])"
   ]
  },
  {
   "cell_type": "code",
   "execution_count": null,
   "id": "6f53eec6-fadf-4ee7-9263-f00e9be329bd",
   "metadata": {},
   "outputs": [],
   "source": [
    "checker"
   ]
  },
  {
   "cell_type": "code",
   "execution_count": null,
   "id": "1d93e7d9-b49c-47a5-8738-580cfba36566",
   "metadata": {},
   "outputs": [],
   "source": [
    "new_base_4"
   ]
  },
  {
   "cell_type": "code",
   "execution_count": null,
   "id": "8ddb5891-bd33-4dfe-8bdb-0e040597d816",
   "metadata": {},
   "outputs": [],
   "source": [
    "targets"
   ]
  },
  {
   "cell_type": "code",
   "execution_count": null,
   "id": "920a308f-711e-49f5-b40b-f31e74a1602f",
   "metadata": {},
   "outputs": [],
   "source": []
  },
  {
   "cell_type": "code",
   "execution_count": null,
   "id": "f29de403-147c-4513-9716-e78875603328",
   "metadata": {},
   "outputs": [],
   "source": []
  },
  {
   "cell_type": "code",
   "execution_count": null,
   "id": "093ebad7-d52d-40f9-943c-a0689383f925",
   "metadata": {},
   "outputs": [],
   "source": []
  },
  {
   "cell_type": "code",
   "execution_count": null,
   "id": "6684f1f4-094e-43a7-af8f-957f1e17f4d1",
   "metadata": {},
   "outputs": [],
   "source": []
  },
  {
   "cell_type": "code",
   "execution_count": null,
   "id": "1327504e-7e27-4756-a9ae-1a41c0670be6",
   "metadata": {},
   "outputs": [],
   "source": []
  },
  {
   "cell_type": "code",
   "execution_count": null,
   "id": "7b909cb1-0ee8-413d-b252-0f272b6274e9",
   "metadata": {},
   "outputs": [],
   "source": []
  },
  {
   "cell_type": "code",
   "execution_count": null,
   "id": "725e86c8-f9b9-40aa-b302-d162ca28ef0f",
   "metadata": {},
   "outputs": [],
   "source": []
  },
  {
   "cell_type": "code",
   "execution_count": null,
   "id": "3ba62c25-7462-4dc3-b1db-56eedf7ed9c4",
   "metadata": {},
   "outputs": [],
   "source": []
  },
  {
   "cell_type": "code",
   "execution_count": null,
   "id": "5a17d814-a8b6-465d-9eb7-5628f8751e1d",
   "metadata": {},
   "outputs": [],
   "source": []
  },
  {
   "cell_type": "code",
   "execution_count": null,
   "id": "32fec497-559c-4e15-9aa8-97a2e322be5d",
   "metadata": {},
   "outputs": [],
   "source": []
  },
  {
   "cell_type": "code",
   "execution_count": null,
   "id": "86773b73-d7af-49ec-a02e-17ccd076ad22",
   "metadata": {},
   "outputs": [],
   "source": []
  },
  {
   "cell_type": "code",
   "execution_count": null,
   "id": "30f54156-f756-45b9-8d0b-d2911cd9d572",
   "metadata": {},
   "outputs": [],
   "source": []
  },
  {
   "cell_type": "code",
   "execution_count": null,
   "id": "d5a26793-d572-4920-924d-0ff023dec98d",
   "metadata": {},
   "outputs": [],
   "source": []
  }
 ],
 "metadata": {
  "kernelspec": {
   "display_name": "Python 3 (ipykernel)",
   "language": "python",
   "name": "python3"
  },
  "language_info": {
   "codemirror_mode": {
    "name": "ipython",
    "version": 3
   },
   "file_extension": ".py",
   "mimetype": "text/x-python",
   "name": "python",
   "nbconvert_exporter": "python",
   "pygments_lexer": "ipython3",
   "version": "3.9.7"
  }
 },
 "nbformat": 4,
 "nbformat_minor": 5
}
