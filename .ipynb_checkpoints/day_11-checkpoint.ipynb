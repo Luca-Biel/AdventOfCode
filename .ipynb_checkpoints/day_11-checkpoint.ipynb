{
 "cells": [
  {
   "cell_type": "code",
   "execution_count": 1,
   "id": "974281d6-cae0-44db-bca3-6160f2a3b246",
   "metadata": {},
   "outputs": [],
   "source": [
    "data =[0, 7, 198844, 5687836, 58, 2478, 25475, 894]"
   ]
  },
  {
   "cell_type": "code",
   "execution_count": 2,
   "id": "659826e0-a84c-4b18-a196-49d3340fdeba",
   "metadata": {},
   "outputs": [],
   "source": [
    "def rules(n):\n",
    "    nstr = str(n)\n",
    "    lstr = int(len(str(nstr)))\n",
    "    if n == 0:\n",
    "        return [1]\n",
    "    elif len(nstr) % 2 == 0:\n",
    "        return [int(nstr[0:int(lstr / 2)]),int(nstr[int(lstr / 2):lstr])]\n",
    "    else:\n",
    "        return [n * 2024]"
   ]
  },
  {
   "cell_type": "code",
   "execution_count": 91,
   "id": "f3a3d424-88aa-40c7-8493-31928c56e6d6",
   "metadata": {},
   "outputs": [],
   "source": [
    "def get_iteration(data,dict_iter):\n",
    "    keys=[]\n",
    "    values=[]\n",
    "    for row in data:\n",
    "        total = 0\n",
    "        for item in row[1]:\n",
    "            total = total + dict_iter[item]\n",
    "        keys.append(row[0])\n",
    "        values.append(total)\n",
    "    return dict(zip(keys, values))"
   ]
  },
  {
   "cell_type": "code",
   "execution_count": 18,
   "id": "6ef851b3-b915-42e4-98ad-9ff40bba4af3",
   "metadata": {},
   "outputs": [],
   "source": [
    "looper = data\n",
    "for i in range(0,25):\n",
    "    loop_res = []\n",
    "    for item in looper:\n",
    "        res=rules(item)\n",
    "        for subres in res:\n",
    "            loop_res.append(subres)\n",
    "    looper = loop_res"
   ]
  },
  {
   "cell_type": "code",
   "execution_count": 66,
   "id": "11ad0ce3-2ed9-4199-9506-760fb1319656",
   "metadata": {},
   "outputs": [
    {
     "data": {
      "text/plain": [
       "156451"
      ]
     },
     "execution_count": 66,
     "metadata": {},
     "output_type": "execute_result"
    }
   ],
   "source": [
    "looper = [0]\n",
    "for i in range(0,30):\n",
    "    loop_res = []\n",
    "    for item in looper:\n",
    "        res=rules(item)\n",
    "        for subres in res:\n",
    "            loop_res.append(subres)\n",
    "    looper = loop_res\n",
    "len(looper)"
   ]
  },
  {
   "cell_type": "code",
   "execution_count": 68,
   "id": "bc277462-17fb-403a-820d-ef2919feb0ae",
   "metadata": {},
   "outputs": [
    {
     "name": "stdout",
     "output_type": "stream",
     "text": [
      "0\n",
      "8\n",
      "1\n",
      "87\n",
      "2\n",
      "373\n",
      "3\n",
      "1729\n",
      "4\n",
      "3286\n"
     ]
    }
   ],
   "source": [
    "pos = data\n",
    "for i in range(0,5):\n",
    "    print(i)\n",
    "    print(len(pos))\n",
    "    dict_loop = []\n",
    "    for item_base in pos:\n",
    "        looper = [item_base]\n",
    "        for j in range(0,15):\n",
    "            loop_res = []\n",
    "            for item in looper:\n",
    "                res=rules(item)\n",
    "                for subres in res:\n",
    "                    loop_res.append(subres)\n",
    "            looper = loop_res\n",
    "        dict_loop.append([item_base,looper,len(looper)])\n",
    "    if (i == 3):\n",
    "        dict_loop_3 = dict_loop[:]\n",
    "    elif (i == 2):\n",
    "        dict_loop_2 = dict_loop[:]\n",
    "    elif (i == 1):\n",
    "        dict_loop_1 = dict_loop[:]\n",
    "    elif (i == 0):\n",
    "        dict_loop_0 = dict_loop[:]\n",
    "    pos=[]\n",
    "    for row in dict_loop:\n",
    "        for item in row[1]:\n",
    "            if item not in pos:\n",
    "                pos.append(item)"
   ]
  },
  {
   "cell_type": "code",
   "execution_count": 76,
   "id": "e01050e4-a036-4ad1-bc74-ee89ef594594",
   "metadata": {},
   "outputs": [],
   "source": [
    "keys=[]\n",
    "values=[]\n",
    "for row in dict_loop:\n",
    "    keys.append(row[0])\n",
    "    values.append(row[2])"
   ]
  },
  {
   "cell_type": "code",
   "execution_count": 77,
   "id": "d5d07a28-f3a4-4ab6-bad8-263533931657",
   "metadata": {},
   "outputs": [],
   "source": [
    "my_dict_4 = dict(zip(keys, values))"
   ]
  },
  {
   "cell_type": "code",
   "execution_count": 77,
   "id": "bd1d35a2-82a1-4edf-8d4b-8bb61721d954",
   "metadata": {},
   "outputs": [],
   "source": [
    "my_dict_3 = get_iteration(dict_loop_3,my_dict_4)\n",
    "my_dict_2 = get_iteration(dict_loop_2,my_dict_3)\n",
    "my_dict_1 = get_iteration(dict_loop_1,my_dict_2)\n",
    "my_dict_0 = get_iteration(dict_loop_0,my_dict_1)\n",
    "\n",
    "keys=[]\n",
    "values=[]\n",
    "total = 0\n",
    "for item in data:\n",
    "    total = total + my_dict_0[item]\n",
    "\n",
    "print(total)"
   ]
  },
  {
   "cell_type": "code",
   "execution_count": 78,
   "id": "5c732b9a-f581-4f08-973e-9034322fbcaf",
   "metadata": {},
   "outputs": [],
   "source": [
    "keys=[]\n",
    "values=[]\n",
    "for row in dict_loop_3:\n",
    "    total = 0\n",
    "    for item in row[1]:\n",
    "        total = total + my_dict_4[item]\n",
    "    keys.append(row[0])\n",
    "    values.append(total)"
   ]
  },
  {
   "cell_type": "code",
   "execution_count": 79,
   "id": "a0291a9f-efa5-44d8-86fd-e9217912714a",
   "metadata": {
    "scrolled": true,
    "tags": []
   },
   "outputs": [],
   "source": [
    "my_dict_3 = dict(zip(keys, values))"
   ]
  },
  {
   "cell_type": "code",
   "execution_count": 80,
   "id": "2b40c908-90bd-4908-9ddf-ea8a4ddfd8ec",
   "metadata": {
    "scrolled": true,
    "tags": []
   },
   "outputs": [],
   "source": [
    "keys=[]\n",
    "values=[]\n",
    "for row in dict_loop_2:\n",
    "    total = 0\n",
    "    for item in row[1]:\n",
    "        total = total + my_dict_3[item]\n",
    "    keys.append(row[0])\n",
    "    values.append(total)"
   ]
  },
  {
   "cell_type": "code",
   "execution_count": 81,
   "id": "6c20acf6-bb1a-4517-97dd-f10f5017288b",
   "metadata": {
    "scrolled": true,
    "tags": []
   },
   "outputs": [],
   "source": [
    "my_dict_2 = dict(zip(keys, values))"
   ]
  },
  {
   "cell_type": "code",
   "execution_count": 82,
   "id": "c8e14ee9-c59b-4e1c-b72b-83706cc3fe2c",
   "metadata": {
    "scrolled": true,
    "tags": []
   },
   "outputs": [],
   "source": [
    "keys=[]\n",
    "values=[]\n",
    "for row in dict_loop_1:\n",
    "    total = 0\n",
    "    for item in row[1]:\n",
    "        total = total + my_dict_2[item]\n",
    "    keys.append(row[0])\n",
    "    values.append(total)"
   ]
  },
  {
   "cell_type": "code",
   "execution_count": 83,
   "id": "4d088339-44a9-4aa3-94cd-7e2be7f38dd6",
   "metadata": {
    "scrolled": true,
    "tags": []
   },
   "outputs": [],
   "source": [
    "my_dict_1 = dict(zip(keys, values))"
   ]
  },
  {
   "cell_type": "code",
   "execution_count": 84,
   "id": "d895d243-02e7-4edd-8511-5a03216c3ba6",
   "metadata": {
    "scrolled": true,
    "tags": []
   },
   "outputs": [],
   "source": [
    "keys=[]\n",
    "values=[]\n",
    "for row in dict_loop_0:\n",
    "    total = 0\n",
    "    for item in row[1]:\n",
    "        total = total + my_dict_1[item]\n",
    "    keys.append(row[0])\n",
    "    values.append(total)"
   ]
  },
  {
   "cell_type": "code",
   "execution_count": 85,
   "id": "df0dff1a-6d25-461a-ae39-fc0bce0eb44c",
   "metadata": {
    "scrolled": true,
    "tags": []
   },
   "outputs": [],
   "source": [
    "my_dict_0 = dict(zip(keys, values))"
   ]
  },
  {
   "cell_type": "code",
   "execution_count": 86,
   "id": "d6ed692b-f026-4839-a5af-4382b457a4bc",
   "metadata": {
    "scrolled": true,
    "tags": []
   },
   "outputs": [],
   "source": [
    "my_dict_0"
   ]
  },
  {
   "cell_type": "code",
   "execution_count": 88,
   "id": "8aaa3068-9087-4e75-b07e-6d9b9faab1b3",
   "metadata": {
    "scrolled": true,
    "tags": []
   },
   "outputs": [],
   "source": [
    "keys=[]\n",
    "values=[]\n",
    "total = 0\n",
    "for item in data:\n",
    "    total = total + my_dict_0[item]\n",
    "keys.append(row[0])\n",
    "values.append(total)"
   ]
  },
  {
   "cell_type": "code",
   "execution_count": 89,
   "id": "3ea22a44-be34-44c7-b669-201cde5e4240",
   "metadata": {
    "scrolled": true,
    "tags": []
   },
   "outputs": [
    {
     "data": {
      "text/plain": [
       "[257335372288947]"
      ]
     },
     "execution_count": 89,
     "metadata": {},
     "output_type": "execute_result"
    }
   ],
   "source": [
    "values"
   ]
  },
  {
   "cell_type": "code",
   "execution_count": 16,
   "id": "16eb2bbb-91be-49bf-858f-02cf4c3793ec",
   "metadata": {},
   "outputs": [],
   "source": [
    "pos=[]\n",
    "for row in dict_loop_out:\n",
    "    for item in row[1]:\n",
    "        if item not in pos:\n",
    "            pos.append(item)"
   ]
  },
  {
   "cell_type": "code",
   "execution_count": 17,
   "id": "270aa7fc-e940-489d-84f5-03da04d48366",
   "metadata": {},
   "outputs": [
    {
     "data": {
      "text/plain": [
       "2342"
      ]
     },
     "execution_count": 17,
     "metadata": {},
     "output_type": "execute_result"
    }
   ],
   "source": [
    "len(pos)"
   ]
  },
  {
   "cell_type": "code",
   "execution_count": 5,
   "id": "2fb03b53-4f71-4dd3-8e14-258cae976e94",
   "metadata": {},
   "outputs": [
    {
     "data": {
      "text/plain": [
       "199"
      ]
     },
     "execution_count": 5,
     "metadata": {},
     "output_type": "execute_result"
    }
   ],
   "source": [
    "len(pos)"
   ]
  }
 ],
 "metadata": {
  "kernelspec": {
   "display_name": "Python 3 (ipykernel)",
   "language": "python",
   "name": "python3"
  },
  "language_info": {
   "codemirror_mode": {
    "name": "ipython",
    "version": 3
   },
   "file_extension": ".py",
   "mimetype": "text/x-python",
   "name": "python",
   "nbconvert_exporter": "python",
   "pygments_lexer": "ipython3",
   "version": "3.9.7"
  }
 },
 "nbformat": 4,
 "nbformat_minor": 5
}
