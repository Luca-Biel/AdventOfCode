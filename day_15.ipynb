{
 "cells": [
  {
   "cell_type": "code",
   "execution_count": 253,
   "id": "177c9ac1-a96f-45e5-9c27-7de27231fb1b",
   "metadata": {},
   "outputs": [
    {
     "name": "stdout",
     "output_type": "stream",
     "text": [
      "[]\n"
     ]
    }
   ],
   "source": [
    "with open('Inputs/day_15.txt','r') as file:\n",
    "    lines = file.readlines()\n",
    "    \n",
    "data_map = []\n",
    "data_move = []\n",
    "for line in lines:\n",
    "    row = list(line.replace('\\n',''))\n",
    "    if len(row) == 0:\n",
    "        print(row)\n",
    "    elif row[0] == '#':\n",
    "        data_map.append(row)\n",
    "    elif row[0] in ['v','<','>','^']:\n",
    "        for item in row:\n",
    "            data_move.append(item)\n",
    "        \n",
    "for x in range (len(data_map[0])):\n",
    "    for y in range (len(data_map)):\n",
    "        if data_map[y][x] == '@':\n",
    "            x_pos = x\n",
    "            y_pos = y"
   ]
  },
  {
   "cell_type": "code",
   "execution_count": 254,
   "id": "69b03964-0618-4690-ab8d-f258d53770e3",
   "metadata": {},
   "outputs": [],
   "source": [
    "def move_stuff(x,y,direction,set_val):    \n",
    "    changes = []\n",
    "    if direction == '^':\n",
    "        y=y-1\n",
    "    elif direction == '>':\n",
    "        x=x+1\n",
    "    elif direction == 'v':\n",
    "        y=y+1\n",
    "    elif direction == '<':\n",
    "        x=x-1\n",
    "    if data_map[y][x] == '#':\n",
    "        changes.append([0,0,''])\n",
    "    elif data_map[y][x] == 'O':\n",
    "        enum = move_stuff(x,y,direction,'O')\n",
    "        for row in enum:\n",
    "            changes.append(row)\n",
    "        changes.append([x,y,set_val])\n",
    "    elif data_map[y][x] == '.':\n",
    "        changes.append([x,y,set_val])\n",
    "    else:\n",
    "        print('Error')\n",
    "        print(data_map[y][x])\n",
    "        print(x)\n",
    "        print(y)\n",
    "    return changes"
   ]
  },
  {
   "cell_type": "code",
   "execution_count": 255,
   "id": "880c3527-1e9e-4a76-9709-06ab20184c16",
   "metadata": {},
   "outputs": [
    {
     "data": {
      "text/plain": [
       "'@'"
      ]
     },
     "execution_count": 255,
     "metadata": {},
     "output_type": "execute_result"
    }
   ],
   "source": [
    "data_map[y_pos][x_pos]"
   ]
  },
  {
   "cell_type": "code",
   "execution_count": 256,
   "id": "ba902485-2269-4432-8720-847a590edaa2",
   "metadata": {},
   "outputs": [],
   "source": [
    "mi = data_move[0]"
   ]
  },
  {
   "cell_type": "code",
   "execution_count": 257,
   "id": "36414eb1-2641-4c2d-a749-bf4b0a49f1fd",
   "metadata": {},
   "outputs": [
    {
     "data": {
      "text/plain": [
       "[[24, 22, 'O'], [24, 23, '@']]"
      ]
     },
     "execution_count": 257,
     "metadata": {},
     "output_type": "execute_result"
    }
   ],
   "source": [
    "adjust = move_stuff(x_pos,y_pos,mi,'@')\n",
    "adjust"
   ]
  },
  {
   "cell_type": "code",
   "execution_count": 258,
   "id": "9151de47-8ad3-4c37-9b27-47349882bed8",
   "metadata": {},
   "outputs": [],
   "source": [
    "for mi in data_move:\n",
    "    adjust = move_stuff(x_pos,y_pos,mi,'@')\n",
    "    if [0,0,''] not in adjust:\n",
    "        for row in adjust:\n",
    "            data_map[row[1]][row[0]] = row[2]\n",
    "        data_map[y_pos][x_pos] = '.'\n",
    "        y_pos = row[1]\n",
    "        x_pos = row[0]"
   ]
  },
  {
   "cell_type": "code",
   "execution_count": 259,
   "id": "d1ce988c-b395-49b8-b6c2-44b679328ecc",
   "metadata": {},
   "outputs": [
    {
     "data": {
      "text/plain": [
       "1446158"
      ]
     },
     "execution_count": 259,
     "metadata": {},
     "output_type": "execute_result"
    }
   ],
   "source": [
    "total = 0\n",
    "for x in range(len(data_map[0])):\n",
    "    for y in range(len(data_map)):\n",
    "        if data_map[y][x] == 'O':\n",
    "            total = total + 100 * y + x\n",
    "total"
   ]
  },
  {
   "cell_type": "code",
   "execution_count": 323,
   "id": "7d9b076f-36a7-4c1e-bea9-bb7c99ef4f5b",
   "metadata": {},
   "outputs": [],
   "source": [
    "def move_stuff_2(x,y,direction,set_val):  \n",
    "    changes = []\n",
    "    if direction == '^':\n",
    "        y=y-1\n",
    "        ver = True\n",
    "    elif direction == '>':\n",
    "        x=x+1\n",
    "        ver = False\n",
    "    elif direction == 'v':\n",
    "        y=y+1\n",
    "        ver = True\n",
    "    elif direction == '<':\n",
    "        x=x-1\n",
    "        ver = False\n",
    "    if data_map_2[y][x] == '#':\n",
    "        changes.append([0,0,''])\n",
    "    elif data_map_2[y][x] == '[':\n",
    "        if ver == False:\n",
    "            enum = move_stuff_2(x,y,direction,'[')\n",
    "            for row in enum:\n",
    "                changes.append(row)\n",
    "        else:\n",
    "            enum = move_stuff_2(x,y,direction,'[')\n",
    "            for row in enum:\n",
    "                changes.append(row)\n",
    "            enum = move_stuff_2(x+1,y,direction,']')\n",
    "            for row in enum:\n",
    "                changes.append(row)\n",
    "        changes.append([x,y,set_val])\n",
    "    elif data_map_2[y][x] == ']':\n",
    "        if ver == False:\n",
    "            enum = move_stuff_2(x,y,direction,']')\n",
    "            for row in enum:\n",
    "                changes.append(row)\n",
    "        else:\n",
    "            enum = move_stuff_2(x,y,direction,']')\n",
    "            for row in enum:\n",
    "                changes.append(row)\n",
    "            enum = move_stuff_2(x-1,y,direction,'[')\n",
    "            for row in enum:\n",
    "                changes.append(row)\n",
    "        changes.append([x,y,set_val])\n",
    "    elif data_map_2[y][x] == '.':\n",
    "        changes.append([x,y,set_val])\n",
    "    else:\n",
    "        print('Error')\n",
    "        print(data_map_2[y][x])\n",
    "        print(x)\n",
    "        print(y)\n",
    "    return changes"
   ]
  },
  {
   "cell_type": "code",
   "execution_count": 324,
   "id": "1991ec66-69d5-455b-861e-b81527444901",
   "metadata": {},
   "outputs": [],
   "source": [
    "def move_stuff_2(x,y,direction,set_val,dontgo):  \n",
    "    changes = [[x,y,'.']]\n",
    "    ys=y\n",
    "    if direction == '^':\n",
    "        y=y-1\n",
    "        ver = True\n",
    "    elif direction == '>':\n",
    "        x=x+1\n",
    "        ver = False\n",
    "    elif direction == 'v':\n",
    "        y=y+1\n",
    "        ver = True\n",
    "    elif direction == '<':\n",
    "        x=x-1\n",
    "        ver = False\n",
    "    if data_map_2[y][x] == '#':\n",
    "        changes.append([0,0,''])\n",
    "    elif data_map_2[y][x] == '[':\n",
    "        if ver == False:\n",
    "            enum = move_stuff_2(x,y,direction,'[','')\n",
    "            for row in enum:\n",
    "                changes.append(row)\n",
    "        elif dontgo != 'l':\n",
    "            enum = move_stuff_2(x,y,direction,'[','')\n",
    "            for row in enum:\n",
    "                changes.append(row)\n",
    "            enum = move_stuff_2(x+1,y,direction,']','r')\n",
    "            for row in enum:\n",
    "                changes.append(row)\n",
    "            changes.append([x+1,ys,'.'])\n",
    "        changes.append([x,y,set_val])\n",
    "    elif data_map_2[y][x] == ']':\n",
    "        if ver == False:\n",
    "            enum = move_stuff_2(x,y,direction,']','')\n",
    "            for row in enum:\n",
    "                changes.append(row)\n",
    "        elif dontgo != 'r':\n",
    "            enum = move_stuff_2(x,y,direction,']','')\n",
    "            for row in enum:\n",
    "                changes.append(row)\n",
    "            enum = move_stuff_2(x-1,y,direction,'[','l')\n",
    "            for row in enum:\n",
    "                    changes.append(row)\n",
    "            changes.append([x-1,ys,'.'])\n",
    "        changes.append([x,y,set_val])\n",
    "    elif data_map_2[y][x] == '.':\n",
    "        changes.append([x,y,set_val])\n",
    "    elif data_map_2[y][x] == ']' and dontgo == 'r':\n",
    "        True\n",
    "    elif data_map_2[y][x] == '[' and dontgo == 'l':\n",
    "        True\n",
    "    else:\n",
    "        print('Error')\n",
    "        print(data_map_2[y][x])\n",
    "        print(x)\n",
    "        print(y)\n",
    "    return changes"
   ]
  },
  {
   "cell_type": "code",
   "execution_count": 334,
   "id": "7edbc679-20be-4fd7-b304-c110a6d9a757",
   "metadata": {},
   "outputs": [
    {
     "name": "stdout",
     "output_type": "stream",
     "text": [
      "[]\n"
     ]
    }
   ],
   "source": [
    "with open('Inputs/day_15.txt','r') as file:\n",
    "    lines = file.readlines()\n",
    "    \n",
    "data_map_2 = []\n",
    "for line in lines:\n",
    "    row = list(line.replace('#','##').replace('O','[]').replace('@','@.').replace('.','..').replace('\\n',''))\n",
    "    if len(row) == 0:\n",
    "        print(row)\n",
    "    elif row[0] == '#':\n",
    "        data_map_2.append(row)"
   ]
  },
  {
   "cell_type": "code",
   "execution_count": 335,
   "id": "c3875a90-7c1a-42f1-bc5f-ef8ca11ad5e4",
   "metadata": {},
   "outputs": [],
   "source": [
    "for x in range (len(data_map_2[0])):\n",
    "    for y in range (len(data_map_2)):\n",
    "        if data_map_2[y][x] == '@':\n",
    "            x_pos = x\n",
    "            y_pos = y"
   ]
  },
  {
   "cell_type": "code",
   "execution_count": 326,
   "id": "f430124b-b078-49ee-bdd0-c9612282f49b",
   "metadata": {
    "scrolled": true,
    "tags": []
   },
   "outputs": [],
   "source": [
    "i = len(data_move)\n",
    "for mi in data_move[0:10]:\n",
    "    i = i-1\n",
    "    adjust = move_stuff_2(x_pos,y_pos,mi,'@','')\n",
    "    if [0,0,''] not in adjust:\n",
    "        for row in adjust:\n",
    "            if row[2] == '.':\n",
    "                data_map_2[row[1]][row[0]] = row[2]\n",
    "        for row in adjust:\n",
    "            if row[2] != '.':\n",
    "                data_map_2[row[1]][row[0]] = row[2]\n",
    "        y_pos = row[1]\n",
    "        x_pos = row[0]\n",
    "    print(data_map)"
   ]
  },
  {
   "cell_type": "code",
   "execution_count": 327,
   "id": "26098955-db20-4d7f-b801-e603dd8c5a52",
   "metadata": {},
   "outputs": [
    {
     "data": {
      "text/plain": [
       "1342356"
      ]
     },
     "execution_count": 327,
     "metadata": {},
     "output_type": "execute_result"
    }
   ],
   "source": [
    "total = 0\n",
    "for x in range(len(data_map_2[0])):\n",
    "    for y in range(len(data_map_2)):\n",
    "        if data_map_2[y][x] == '[':\n",
    "            total = total + 100 * y + x\n",
    "total"
   ]
  },
  {
   "cell_type": "code",
   "execution_count": 328,
   "id": "ab0d67e0-24e6-433c-b8e4-8194281eb762",
   "metadata": {},
   "outputs": [
    {
     "data": {
      "text/plain": [
       "']'"
      ]
     },
     "execution_count": 328,
     "metadata": {},
     "output_type": "execute_result"
    }
   ],
   "source": [
    "max('.',']')"
   ]
  },
  {
   "cell_type": "code",
   "execution_count": 329,
   "id": "46286fe9-99c5-4654-b903-938717c72d25",
   "metadata": {},
   "outputs": [
    {
     "ename": "SyntaxError",
     "evalue": "invalid syntax (Temp/ipykernel_14148/513925427.py, line 1)",
     "output_type": "error",
     "traceback": [
      "\u001b[1;36m  File \u001b[1;32m\"C:\\Users\\lucab\\AppData\\Local\\Temp/ipykernel_14148/513925427.py\"\u001b[1;36m, line \u001b[1;32m1\u001b[0m\n\u001b[1;33m    your answer is too high 2539723\u001b[0m\n\u001b[1;37m         ^\u001b[0m\n\u001b[1;31mSyntaxError\u001b[0m\u001b[1;31m:\u001b[0m invalid syntax\n"
     ]
    }
   ],
   "source": [
    "your answer is too high 2539723\n",
    "1466243"
   ]
  },
  {
   "cell_type": "code",
   "execution_count": 330,
   "id": "8f3deca0-57a3-4218-9297-2129773bd45e",
   "metadata": {},
   "outputs": [
    {
     "data": {
      "text/plain": [
       "2033554"
      ]
     },
     "execution_count": 330,
     "metadata": {},
     "output_type": "execute_result"
    }
   ],
   "source": [
    "2033554"
   ]
  },
  {
   "cell_type": "code",
   "execution_count": 331,
   "id": "84edd8b8-7879-4034-a8db-07d1cdc661b4",
   "metadata": {},
   "outputs": [
    {
     "data": {
      "text/plain": [
       "3"
      ]
     },
     "execution_count": 331,
     "metadata": {},
     "output_type": "execute_result"
    }
   ],
   "source": [
    "y = 3\n",
    "ys = y\n",
    "y = 4\n",
    "ys"
   ]
  },
  {
   "cell_type": "code",
   "execution_count": 332,
   "id": "aa92c787-2d7e-41ae-9bd8-bc1f2432edc5",
   "metadata": {},
   "outputs": [
    {
     "name": "stdout",
     "output_type": "stream",
     "text": [
      "0\n"
     ]
    },
    {
     "ename": "TypeError",
     "evalue": "move_stuff_2() missing 1 required positional argument: 'dontgo'",
     "output_type": "error",
     "traceback": [
      "\u001b[1;31m---------------------------------------------------------------------------\u001b[0m",
      "\u001b[1;31mTypeError\u001b[0m                                 Traceback (most recent call last)",
      "\u001b[1;32m~\\AppData\\Local\\Temp/ipykernel_14148/1648177585.py\u001b[0m in \u001b[0;36m<module>\u001b[1;34m\u001b[0m\n\u001b[0;32m      1\u001b[0m \u001b[0mprint\u001b[0m\u001b[1;33m(\u001b[0m\u001b[0mi\u001b[0m\u001b[1;33m)\u001b[0m\u001b[1;33m\u001b[0m\u001b[1;33m\u001b[0m\u001b[0m\n\u001b[0;32m      2\u001b[0m \u001b[0mi\u001b[0m \u001b[1;33m=\u001b[0m \u001b[0mi\u001b[0m\u001b[1;33m-\u001b[0m\u001b[1;36m1\u001b[0m\u001b[1;33m\u001b[0m\u001b[1;33m\u001b[0m\u001b[0m\n\u001b[1;32m----> 3\u001b[1;33m \u001b[0madjust\u001b[0m \u001b[1;33m=\u001b[0m \u001b[0mmove_stuff_2\u001b[0m\u001b[1;33m(\u001b[0m\u001b[0mx_pos\u001b[0m\u001b[1;33m,\u001b[0m\u001b[0my_pos\u001b[0m\u001b[1;33m,\u001b[0m\u001b[0mmi\u001b[0m\u001b[1;33m,\u001b[0m\u001b[1;34m'@'\u001b[0m\u001b[1;33m)\u001b[0m\u001b[1;33m\u001b[0m\u001b[1;33m\u001b[0m\u001b[0m\n\u001b[0m\u001b[0;32m      4\u001b[0m \u001b[1;32mif\u001b[0m \u001b[1;33m[\u001b[0m\u001b[1;36m0\u001b[0m\u001b[1;33m,\u001b[0m\u001b[1;36m0\u001b[0m\u001b[1;33m,\u001b[0m\u001b[1;34m''\u001b[0m\u001b[1;33m]\u001b[0m \u001b[1;32mnot\u001b[0m \u001b[1;32min\u001b[0m \u001b[0madjust\u001b[0m\u001b[1;33m:\u001b[0m\u001b[1;33m\u001b[0m\u001b[1;33m\u001b[0m\u001b[0m\n\u001b[0;32m      5\u001b[0m     \u001b[1;32mfor\u001b[0m \u001b[0mrow\u001b[0m \u001b[1;32min\u001b[0m \u001b[0madjust\u001b[0m\u001b[1;33m:\u001b[0m\u001b[1;33m\u001b[0m\u001b[1;33m\u001b[0m\u001b[0m\n",
      "\u001b[1;31mTypeError\u001b[0m: move_stuff_2() missing 1 required positional argument: 'dontgo'"
     ]
    }
   ],
   "source": [
    "print(i)\n",
    "i = i-1\n",
    "adjust = move_stuff_2(x_pos,y_pos,mi,'@')\n",
    "if [0,0,''] not in adjust:\n",
    "    for row in adjust:\n",
    "        data_map_2[row[1]][row[0]] = row[2]\n",
    "    data_map_2[y_pos][x_pos] = '.'\n",
    "    y_pos = row[1]\n",
    "    x_pos = row[0]"
   ]
  },
  {
   "cell_type": "code",
   "execution_count": 333,
   "id": "05980227-30fd-49e5-a1ed-cc0b2a8c735e",
   "metadata": {},
   "outputs": [
    {
     "name": "stdout",
     "output_type": "stream",
     "text": [
      "['#', '#', '#', '#', '.', '.', '#', '#', '.', '.', '#', '#', '.', '.', '.', '.', '.', '.', '.', '.', '[', ']', '[', ']', '.', '.', '#', '#', '.', '[', ']', '.', '#', '#', '.', '.', '#', '#', '.', '.', '.', '[', ']', '#', '[', ']', '.', '.', '[', '[', ']', '.', '[', ']', '[', ']', '[', ']', '#', '#', '.', '.', '.', '.', '.', '.', '.', '.', '[', ']', '[', ']', '#', '#', '.', '.', '[', '.', '.', '.', '.', '.', '.', '.', ']', '[', '.', '.', '.', '.', '.', '.', '.', '.', '.', '.', '.', '.', '#', '#']\n"
     ]
    }
   ],
   "source": [
    "print(data_map_2[20])"
   ]
  },
  {
   "cell_type": "code",
   "execution_count": null,
   "id": "4afe8710-ccbd-44cd-8cd0-10a7edec5037",
   "metadata": {},
   "outputs": [],
   "source": []
  }
 ],
 "metadata": {
  "kernelspec": {
   "display_name": "Python 3 (ipykernel)",
   "language": "python",
   "name": "python3"
  },
  "language_info": {
   "codemirror_mode": {
    "name": "ipython",
    "version": 3
   },
   "file_extension": ".py",
   "mimetype": "text/x-python",
   "name": "python",
   "nbconvert_exporter": "python",
   "pygments_lexer": "ipython3",
   "version": "3.9.7"
  }
 },
 "nbformat": 4,
 "nbformat_minor": 5
}
